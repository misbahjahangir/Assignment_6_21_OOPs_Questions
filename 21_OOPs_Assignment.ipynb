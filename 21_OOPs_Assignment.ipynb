{
  "nbformat": 4,
  "nbformat_minor": 0,
  "metadata": {
    "colab": {
      "provenance": [],
      "authorship_tag": "ABX9TyO8WcOtle4ptOWr8X9bYhnP",
      "include_colab_link": true
    },
    "kernelspec": {
      "name": "python3",
      "display_name": "Python 3"
    },
    "language_info": {
      "name": "python"
    }
  },
  "cells": [
    {
      "cell_type": "markdown",
      "metadata": {
        "id": "view-in-github",
        "colab_type": "text"
      },
      "source": [
        "<a href=\"https://colab.research.google.com/github/misbahjahangir/Assignment_6_21_OOPs_Questions/blob/main/21_OOPs_Assignment.ipynb\" target=\"_parent\"><img src=\"https://colab.research.google.com/assets/colab-badge.svg\" alt=\"Open In Colab\"/></a>"
      ]
    },
    {
      "cell_type": "code",
      "execution_count": null,
      "metadata": {
        "id": "u3NY_yzhJGFX"
      },
      "outputs": [],
      "source": [
        "class Student:\n",
        "    def __init__(self,name,marks):\n",
        "        self.name=name\n",
        "        self.marks=marks\n",
        "    def Display(self):\n",
        "        print(\"Name\",self.name)\n",
        "        print(\"Marks\",self.marks)\n",
        "s1=Student(\"Afreen\",98)\n",
        "s1.Display()"
      ]
    },
    {
      "cell_type": "code",
      "source": [
        "class Counter:\n",
        "    count=1\n",
        "    def __init__(self):\n",
        "        Counter.count +=1\n",
        "\n",
        "    @classmethod\n",
        "    def display_count(cls):\n",
        "        print(\"object\",cls.count)\n",
        "c1=Counter()\n",
        "c2=Counter()\n",
        "c3=Counter()\n",
        "Counter.display_count()"
      ],
      "metadata": {
        "id": "eKT1MhLXJbPD"
      },
      "execution_count": null,
      "outputs": []
    },
    {
      "cell_type": "code",
      "source": [
        "class Car:\n",
        "    def __init__(self,brand):\n",
        "        self.brand= brand\n",
        "    def start(self):\n",
        "        print(self.brand,\"car is started\" )\n",
        "c1=Car(\"toyota\")\n",
        "print(\"my car brand is \", c1.brand)\n",
        "c1.start()"
      ],
      "metadata": {
        "id": "-_fWr5eJJhiR"
      },
      "execution_count": null,
      "outputs": []
    },
    {
      "cell_type": "code",
      "source": [
        "class MathUtils:\n",
        "    @staticmethod\n",
        "    def add(a,b):\n",
        "        return a+b\n",
        "result=MathUtils.add(10,20)\n",
        "print(\"Add\",result)"
      ],
      "metadata": {
        "id": "SJgLa2lzJoUn"
      },
      "execution_count": null,
      "outputs": []
    },
    {
      "cell_type": "code",
      "source": [
        "class Logger:\n",
        "    def __init__(self):\n",
        "        print(\"constructor is create\")\n",
        "    def __del__(self):\n",
        "        print(\"constucctor is destroyed called Destructor\")\n",
        "log=Logger()\n",
        "del log"
      ],
      "metadata": {
        "id": "ygjDqr1_Jt1W"
      },
      "execution_count": null,
      "outputs": []
    },
    {
      "cell_type": "code",
      "source": [
        "class Employee:\n",
        "    def __init__(self,name,salary,ssn):\n",
        "        self.name=name\n",
        "        self._salary= salary\n",
        "        self.__ssn= ssn\n",
        "e1=Employee(\"Afreen\",50000,42401-3422)\n",
        "print(\"Employee Name\",e1.name)\n",
        "print(\"Employee Salary\",e1._salary)\n",
        "print(\"Employee ssn\",e1._Employee__ssn)"
      ],
      "metadata": {
        "id": "DlsKAapmJ4YF"
      },
      "execution_count": null,
      "outputs": []
    },
    {
      "cell_type": "code",
      "source": [
        "class Person:\n",
        "    def __init__(self,name):\n",
        "        self.name=name\n",
        "class Teacher(Person):\n",
        "    def __init__(self, name, subject):\n",
        "        super().__init__(name)\n",
        "        self.subject=subject\n",
        "\n",
        "\n",
        "\n",
        "T1=Teacher(\"misbah\",\"english\")\n",
        "\n",
        "print( \"Name:\",T1.name)\n",
        "\n",
        "print(\"Subject:\",T1.subject)"
      ],
      "metadata": {
        "id": "msoN3808KDA-"
      },
      "execution_count": null,
      "outputs": []
    },
    {
      "cell_type": "code",
      "source": [
        "from abc import ABC ,abstractmethod\n",
        "\n",
        "class Shape(ABC):\n",
        "    @abstractmethod\n",
        "    def area(self):\n",
        "        pass\n",
        "class Rectangle(Shape):\n",
        "    def __init__(self,width, height):\n",
        "        self.width=width\n",
        "        self.height=height\n",
        "    def area(self):\n",
        "        return self.width*self.height\n",
        "R=Rectangle(10,4)\n",
        "print(\"the area of rectangle is\", R.area())"
      ],
      "metadata": {
        "id": "AImNvilMKTeV"
      },
      "execution_count": null,
      "outputs": []
    },
    {
      "cell_type": "code",
      "source": [
        "class Dog:\n",
        "    def __init__(self, name, breed):\n",
        "        self.name= name\n",
        "        self.breed=breed\n",
        "\n",
        "\n",
        "    def bark(self):\n",
        "        print(\"Woof! The dog is\", self.name)\n",
        "d= Dog(\"donal\",\"tuffi\")\n",
        "d.bark()"
      ],
      "metadata": {
        "id": "cY2imymZKgjE"
      },
      "execution_count": null,
      "outputs": []
    },
    {
      "cell_type": "code",
      "source": [
        "class TemperatureConverter:\n",
        "    @staticmethod\n",
        "    def celsius_t0_franheit(c):\n",
        "        return (c* 9/5)*32\n",
        "temp_celsius=25\n",
        "temp_to_franheit=TemperatureConverter.celsius_t0_franheit(temp_celsius)\n",
        "print(\"Temperature in celsius = \", temp_celsius,\"C\", \"Tempature to franheit=\", temp_to_franheit ,\"F\")"
      ],
      "metadata": {
        "id": "YKpbSYE8KoM7"
      },
      "execution_count": null,
      "outputs": []
    },
    {
      "cell_type": "code",
      "source": [
        "class Engine:\n",
        "    def start(self):\n",
        "        return \"car is satrted\"\n",
        "class Car:\n",
        "    def __init__(self,engine):\n",
        "        self.engine= engine\n",
        "\n",
        "    def car_start(self):\n",
        "        return self.engine.start()\n",
        "e1=Engine()\n",
        "c1=Car(e1)\n",
        "\n",
        "print(c1.car_start())\n",
        ""
      ],
      "metadata": {
        "id": "nFrYWq49KuTc"
      },
      "execution_count": null,
      "outputs": []
    },
    {
      "cell_type": "code",
      "source": [
        "class A:\n",
        "    def show(self):\n",
        "        print(\"A.show()\")\n",
        "class B(A):\n",
        "        print(\"B.show()\")\n",
        "class C(A):\n",
        "     print(\"C.show()\")\n",
        "class D(B,C):\n",
        "     print(\"D.show()\")\n",
        "obj=D()\n",
        "obj.show()\n",
        "\n",
        "print(D.__mro__)"
      ],
      "metadata": {
        "id": "giLlgtHbKz0U"
      },
      "execution_count": null,
      "outputs": []
    },
    {
      "cell_type": "code",
      "source": [
        "def call_function_log(func):\n",
        "    def wrapped():\n",
        "        print(\"called hojaega function\")\n",
        "        func()\n",
        "    return wrapped\n",
        "@call_function_log\n",
        "def hello():\n",
        "    print(\"hello guys\")\n",
        "\n",
        "\n",
        "hello()"
      ],
      "metadata": {
        "id": "1XuyE33mK2SG"
      },
      "execution_count": null,
      "outputs": []
    },
    {
      "cell_type": "code",
      "source": [
        "def add_greeting(cls):\n",
        "    def greeting(self):\n",
        "        return \"Hello Decorator\"\n",
        "    cls.greeting= greeting\n",
        "    return cls\n",
        "@add_greeting\n",
        "class Person:\n",
        "    def __init__(self,name):\n",
        "        self.name=name\n",
        "p=Person(\"afreen\")\n",
        "print(p.greeting())"
      ],
      "metadata": {
        "id": "x1hRDIyjLHR2"
      },
      "execution_count": null,
      "outputs": []
    },
    {
      "cell_type": "code",
      "source": [
        "class Product:\n",
        "     def __init__(self,price):\n",
        "          self._price= price\n",
        "\n",
        "     @property\n",
        "     def price(self):\n",
        "         return self._price\n",
        "\n",
        "     @price.setter\n",
        "     def price(self,value):\n",
        "        if value < 0:\n",
        "          print (\"its not negative value\")\n",
        "\n",
        "        else:\n",
        "\n",
        "\n",
        "            self._price=value\n",
        "     @price.deleter\n",
        "     def price(self):\n",
        "        print(\"price is deleting\")\n",
        "        del self._price\n",
        "\n",
        "p=Product(100)\n",
        "\n",
        "print(p.price)\n",
        "\n",
        "p._price=150\n",
        "print(p.price)\n",
        "\n",
        "del p.price"
      ],
      "metadata": {
        "id": "Yencu52jLI0s"
      },
      "execution_count": null,
      "outputs": []
    },
    {
      "cell_type": "code",
      "source": [
        "class Multiple:\n",
        "    def __init__(self,factor):\n",
        "        self.factor =factor\n",
        "    def __call__(self,value ):\n",
        "\n",
        "        return self.factor*value\n",
        "\n",
        "m= Multiple(5)\n",
        "print(callable(m))\n",
        "result=m(10)\n",
        "print(result)"
      ],
      "metadata": {
        "id": "ilaESpk2LQJ5"
      },
      "execution_count": null,
      "outputs": []
    },
    {
      "cell_type": "code",
      "source": [
        "class InvalidErrorAge(Exception):\n",
        "    pass\n",
        "def Check_age(age):\n",
        "    if age < 18:\n",
        "        print(\"Invalid Age\")\n",
        "    else:\n",
        "        print(\"Entry valid\")\n",
        "try:\n",
        "    Check_age(16)\n",
        "except InvalidErrorAge as e:\n",
        "    print(\"Error:\",e)"
      ],
      "metadata": {
        "id": "GeB_GsVsLQNY"
      },
      "execution_count": null,
      "outputs": []
    },
    {
      "cell_type": "code",
      "source": [
        "class Countdown:\n",
        "    def __init__(self, start):\n",
        "        self.current = start\n",
        "\n",
        "    def __iter__(self):\n",
        "        return self\n",
        "\n",
        "    def __next__(self):\n",
        "        if self.current < 0:\n",
        "            raise StopIteration\n",
        "        else:\n",
        "            value = self.current\n",
        "            self.current -= 1\n",
        "            return value\n",
        "\n",
        "# for loop میں استعمال کرنا\n",
        "for number in Countdown(5):\n",
        "    print(number)"
      ],
      "metadata": {
        "id": "SwzKlg-SLkVX"
      },
      "execution_count": null,
      "outputs": []
    }
  ]
}